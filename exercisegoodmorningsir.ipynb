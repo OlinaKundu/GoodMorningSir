{
 "cells": [
  {
   "cell_type": "code",
   "execution_count": 1,
   "id": "357647c3-a84c-4120-b1b5-f046b4a24f57",
   "metadata": {},
   "outputs": [
    {
     "name": "stdout",
     "output_type": "stream",
     "text": [
      "18:33:58\n",
      "18\n"
     ]
    }
   ],
   "source": [
    "# hint\n",
    "import time\n",
    "timestamp=time.strftime('%H:%M:%S')\n",
    "print(timestamp)\n",
    "timestamp=int(time.strftime('%H'))\n",
    "print(timestamp)"
   ]
  },
  {
   "cell_type": "code",
   "execution_count": 3,
   "id": "4a4921d8-110f-4fa8-a5d2-9051df9dbdef",
   "metadata": {},
   "outputs": [
    {
     "name": "stdin",
     "output_type": "stream",
     "text": [
      "Enter your name:  olina\n"
     ]
    },
    {
     "name": "stdout",
     "output_type": "stream",
     "text": [
      "GOOD NIGHT Olina its 18:43:41\n"
     ]
    }
   ],
   "source": [
    "# import time\n",
    "# name = input('Enter your name: ')\n",
    "# recenttime = time.strftime('%H:%M:%S')\n",
    "# Recenttime = int(time.strftime('%H'))\n",
    "# c= name.capitalize()\n",
    "# if(4<=Recenttime<12):\n",
    "#     print('GOOD MORNING',c,'its',recenttime)\n",
    "# elif(12>=Recenttime<17):\n",
    "#     print('GOOD EVENING',c,'its',recenttime)\n",
    "# else:\n",
    "#     print('GOOD NIGHT',c,'its',recenttime)"
   ]
  },
  {
   "cell_type": "code",
   "execution_count": 1,
   "id": "fa011e94-5b5e-4c29-9bf5-a1f77bc200c0",
   "metadata": {},
   "outputs": [
    {
     "name": "stdin",
     "output_type": "stream",
     "text": [
      "Please enter your name: Abhi\n"
     ]
    },
    {
     "name": "stdout",
     "output_type": "stream",
     "text": [
      "Good night Abhi it's 21:06:51\n"
     ]
    }
   ],
   "source": [
    "import time\n",
    "name=input(\"Please enter your name:\")\n",
    "recenttime=time.strftime('%H:%M:%S')\n",
    "Recenttime=int(time.strftime('%H'))\n",
    "c=name.title()\n",
    "if(5<=Recenttime<12):\n",
    "    print(\"Good morning\",c,\"the time is\",recenttime)\n",
    "elif(12<=Recenttime<17):\n",
    "    print(\"Good afternoon\",c,\"its\",recenttime)\n",
    "else:\n",
    "    print(\"Good night\",c,\"it's\",recenttime)"
   ]
  },
  {
   "cell_type": "code",
   "execution_count": 3,
   "id": "84dbcb50-71da-4f4b-b922-de45aa4a539d",
   "metadata": {},
   "outputs": [
    {
     "name": "stdout",
     "output_type": "stream",
     "text": [
      "4 is present\n"
     ]
    }
   ],
   "source": [
    "tup=(1,4,5,6)\n",
    "if 4 in tup:\n",
    "    print(\"4 is present\")"
   ]
  }
 ],
 "metadata": {
  "kernelspec": {
   "display_name": "Python 3 (ipykernel)",
   "language": "python",
   "name": "python3"
  },
  "language_info": {
   "codemirror_mode": {
    "name": "ipython",
    "version": 3
   },
   "file_extension": ".py",
   "mimetype": "text/x-python",
   "name": "python",
   "nbconvert_exporter": "python",
   "pygments_lexer": "ipython3",
   "version": "3.12.4"
  }
 },
 "nbformat": 4,
 "nbformat_minor": 5
}
